{
 "cells": [
  {
   "cell_type": "code",
   "execution_count": 4,
   "id": "fbd3480c",
   "metadata": {},
   "outputs": [],
   "source": [
    "lst  = [1,1,2,3,4,5,6]\n",
    "lst2 = []\n",
    "for i in lst :\n",
    "    if i % 2 == 0:\n",
    "        lst2.append((i , \"is Even\"))\n",
    "    else: \n",
    "        lst2.append((i , \"is Odd\"))"
   ]
  },
  {
   "cell_type": "code",
   "execution_count": 6,
   "id": "b384128b",
   "metadata": {},
   "outputs": [
    {
     "data": {
      "text/plain": [
       "{1: 'is Odd',\n",
       " 2: 'is Even',\n",
       " 3: 'is Odd',\n",
       " 4: 'is Even',\n",
       " 5: 'is Odd',\n",
       " 6: 'is Even'}"
      ]
     },
     "execution_count": 6,
     "metadata": {},
     "output_type": "execute_result"
    }
   ],
   "source": [
    "dict(lst2)"
   ]
  },
  {
   "cell_type": "code",
   "execution_count": 7,
   "id": "6044805e",
   "metadata": {
    "scrolled": true
   },
   "outputs": [
    {
     "data": {
      "text/plain": [
       "[(1, 'is Odd'),\n",
       " (1, 'is Odd'),\n",
       " (2, 'is Even'),\n",
       " (3, 'is Odd'),\n",
       " (4, 'is Even'),\n",
       " (5, 'is Odd'),\n",
       " (6, 'is Even')]"
      ]
     },
     "execution_count": 7,
     "metadata": {},
     "output_type": "execute_result"
    }
   ],
   "source": [
    "lst2"
   ]
  },
  {
   "cell_type": "code",
   "execution_count": 9,
   "id": "b9294003",
   "metadata": {},
   "outputs": [
    {
     "data": {
      "text/plain": [
       "[(1, 'is Odd'),\n",
       " (1, 'is Odd'),\n",
       " (2, 'is Even'),\n",
       " (3, 'is Odd'),\n",
       " (4, 'is Even'),\n",
       " (5, 'is Odd'),\n",
       " (6, 'is Even')]"
      ]
     },
     "execution_count": 9,
     "metadata": {},
     "output_type": "execute_result"
    }
   ],
   "source": [
    "[ (i , \"is Even\") if i % 2 == 0 else (i , \"is Odd\")  for i in lst]"
   ]
  },
  {
   "cell_type": "code",
   "execution_count": 12,
   "id": "6f77e5e8",
   "metadata": {},
   "outputs": [
    {
     "name": "stdout",
     "output_type": "stream",
     "text": [
      "Enter your string amit!@#$%^\n",
      "amit\n"
     ]
    }
   ],
   "source": [
    "ill_char = \"!@#$%^&*?\"\n",
    "x = input(\"Enter your string \")\n",
    "s = ''\n",
    "for i in x :\n",
    "    if i not in ill_char:\n",
    "        s += i\n",
    "print(s)"
   ]
  },
  {
   "cell_type": "code",
   "execution_count": 15,
   "id": "be6cfc16",
   "metadata": {},
   "outputs": [
    {
     "data": {
      "text/plain": [
       "'amit'"
      ]
     },
     "execution_count": 15,
     "metadata": {},
     "output_type": "execute_result"
    }
   ],
   "source": [
    "\"\".join([i for i in x if i not in ill_char])"
   ]
  },
  {
   "cell_type": "code",
   "execution_count": 17,
   "id": "10be7a41",
   "metadata": {},
   "outputs": [
    {
     "name": "stdout",
     "output_type": "stream",
     "text": [
      "amit\n"
     ]
    }
   ],
   "source": [
    "s = ''\n",
    "for i in x :\n",
    "    if i.isalnum():\n",
    "        s += i\n",
    "print(s)"
   ]
  },
  {
   "cell_type": "code",
   "execution_count": 18,
   "id": "f3d1edcd",
   "metadata": {},
   "outputs": [
    {
     "data": {
      "text/plain": [
       "'amit'"
      ]
     },
     "execution_count": 18,
     "metadata": {},
     "output_type": "execute_result"
    }
   ],
   "source": [
    "\"\".join(i for i in x if i.isalnum())"
   ]
  },
  {
   "cell_type": "code",
   "execution_count": 19,
   "id": "690169e6",
   "metadata": {},
   "outputs": [
    {
     "data": {
      "text/plain": [
       "'amit'"
      ]
     },
     "execution_count": 19,
     "metadata": {},
     "output_type": "execute_result"
    }
   ],
   "source": [
    "\"\".join(i for i in x if i.isalpha())"
   ]
  },
  {
   "cell_type": "code",
   "execution_count": 20,
   "id": "ef26bf8a",
   "metadata": {},
   "outputs": [],
   "source": [
    "def add(n1 ,n2 ):\n",
    "    s = n1 + n2 \n",
    "    return s "
   ]
  },
  {
   "cell_type": "code",
   "execution_count": 21,
   "id": "ede348ee",
   "metadata": {},
   "outputs": [
    {
     "data": {
      "text/plain": [
       "35"
      ]
     },
     "execution_count": 21,
     "metadata": {},
     "output_type": "execute_result"
    }
   ],
   "source": [
    "add(12,23)"
   ]
  },
  {
   "cell_type": "code",
   "execution_count": 22,
   "id": "fa3c9879",
   "metadata": {},
   "outputs": [
    {
     "data": {
      "text/plain": [
       "24"
      ]
     },
     "execution_count": 22,
     "metadata": {},
     "output_type": "execute_result"
    }
   ],
   "source": [
    "add(12,12)"
   ]
  },
  {
   "cell_type": "code",
   "execution_count": 24,
   "id": "fb60740e",
   "metadata": {},
   "outputs": [
    {
     "data": {
      "text/plain": [
       "27"
      ]
     },
     "execution_count": 24,
     "metadata": {},
     "output_type": "execute_result"
    }
   ],
   "source": [
    "add(12,15)"
   ]
  },
  {
   "cell_type": "code",
   "execution_count": 25,
   "id": "ac0c1112",
   "metadata": {},
   "outputs": [],
   "source": [
    "def add(*num):\n",
    "    return sum(num)"
   ]
  },
  {
   "cell_type": "code",
   "execution_count": 26,
   "id": "b89bba48",
   "metadata": {},
   "outputs": [
    {
     "data": {
      "text/plain": [
       "0"
      ]
     },
     "execution_count": 26,
     "metadata": {},
     "output_type": "execute_result"
    }
   ],
   "source": [
    "add()"
   ]
  },
  {
   "cell_type": "code",
   "execution_count": 27,
   "id": "c1c7f37e",
   "metadata": {},
   "outputs": [
    {
     "data": {
      "text/plain": [
       "1"
      ]
     },
     "execution_count": 27,
     "metadata": {},
     "output_type": "execute_result"
    }
   ],
   "source": [
    "add(1)"
   ]
  },
  {
   "cell_type": "code",
   "execution_count": 32,
   "id": "3ecbdba9",
   "metadata": {},
   "outputs": [],
   "source": [
    "def check(num =0 ):\n",
    "    if num % 2 == 0 :\n",
    "        return \"Even\"\n",
    "    else:\n",
    "        return \"Odd\""
   ]
  },
  {
   "cell_type": "code",
   "execution_count": 33,
   "id": "be93c7d2",
   "metadata": {},
   "outputs": [
    {
     "data": {
      "text/plain": [
       "'Odd'"
      ]
     },
     "execution_count": 33,
     "metadata": {},
     "output_type": "execute_result"
    }
   ],
   "source": [
    "check(13)"
   ]
  },
  {
   "cell_type": "code",
   "execution_count": 34,
   "id": "b6b14cd8",
   "metadata": {},
   "outputs": [],
   "source": [
    "# Task\n",
    "# create function to add list\n",
    "# add([1,2,3,4,5,\"asd\"])"
   ]
  },
  {
   "cell_type": "code",
   "execution_count": 35,
   "id": "829ef949",
   "metadata": {},
   "outputs": [],
   "source": [
    "def check(num):\n",
    "    if num % 2 == 0 :\n",
    "        return \"Even\"\n",
    "    else:\n",
    "        return \"Odd\""
   ]
  },
  {
   "cell_type": "code",
   "execution_count": 38,
   "id": "a300a88d",
   "metadata": {},
   "outputs": [
    {
     "data": {
      "text/plain": [
       "['Odd', 'Even', 'Odd', 'Even', 'Odd', 'Odd']"
      ]
     },
     "execution_count": 38,
     "metadata": {},
     "output_type": "execute_result"
    }
   ],
   "source": [
    "lst = [1,2,3,4,5,5]\n",
    "# list(map(fun , seq))\n",
    "list(map(check , lst))"
   ]
  },
  {
   "cell_type": "code",
   "execution_count": 39,
   "id": "671e3990",
   "metadata": {},
   "outputs": [],
   "source": [
    "def Even(num):\n",
    "    if num % 2 == 0 :\n",
    "        return True\n",
    "    else:\n",
    "        return False"
   ]
  },
  {
   "cell_type": "code",
   "execution_count": 40,
   "id": "f722d5ed",
   "metadata": {},
   "outputs": [
    {
     "data": {
      "text/plain": [
       "[2, 2, 4, 4]"
      ]
     },
     "execution_count": 40,
     "metadata": {},
     "output_type": "execute_result"
    }
   ],
   "source": [
    "lst = [2,2,3,4,5,4]\n",
    "# list(filter(fun , seq))\n",
    "list(filter(Even , lst))"
   ]
  },
  {
   "cell_type": "code",
   "execution_count": 41,
   "id": "5a561743",
   "metadata": {},
   "outputs": [],
   "source": [
    "def odd(num):\n",
    "    if num % 2 != 0:\n",
    "        return True"
   ]
  },
  {
   "cell_type": "code",
   "execution_count": 42,
   "id": "3deaa082",
   "metadata": {},
   "outputs": [
    {
     "data": {
      "text/plain": [
       "[3, 5]"
      ]
     },
     "execution_count": 42,
     "metadata": {},
     "output_type": "execute_result"
    }
   ],
   "source": [
    "list(filter(odd , lst))"
   ]
  },
  {
   "cell_type": "code",
   "execution_count": 43,
   "id": "480295a7",
   "metadata": {},
   "outputs": [],
   "source": [
    "add_l = lambda x1 , x2 : x1 + x2 "
   ]
  },
  {
   "cell_type": "code",
   "execution_count": 44,
   "id": "530dcbf8",
   "metadata": {},
   "outputs": [
    {
     "data": {
      "text/plain": [
       "24"
      ]
     },
     "execution_count": 44,
     "metadata": {},
     "output_type": "execute_result"
    }
   ],
   "source": [
    "add_l(12,12)"
   ]
  },
  {
   "cell_type": "code",
   "execution_count": 51,
   "id": "1ae12b3a",
   "metadata": {},
   "outputs": [],
   "source": [
    "# f = lambda x : x % 2!=0 "
   ]
  },
  {
   "cell_type": "code",
   "execution_count": 55,
   "id": "3594fa3d",
   "metadata": {},
   "outputs": [
    {
     "data": {
      "text/plain": [
       "[3, 5]"
      ]
     },
     "execution_count": 55,
     "metadata": {},
     "output_type": "execute_result"
    }
   ],
   "source": [
    "list(filter(lambda x : x % 2 != 0  , lst))"
   ]
  },
  {
   "cell_type": "code",
   "execution_count": 56,
   "id": "7f7dbb72",
   "metadata": {},
   "outputs": [
    {
     "data": {
      "text/plain": [
       "[2, 2, 4, 4]"
      ]
     },
     "execution_count": 56,
     "metadata": {},
     "output_type": "execute_result"
    }
   ],
   "source": [
    "list(filter(lambda x : x % 2 == 0  , lst))"
   ]
  },
  {
   "cell_type": "code",
   "execution_count": 57,
   "id": "3a603976",
   "metadata": {},
   "outputs": [],
   "source": [
    "import module"
   ]
  },
  {
   "cell_type": "code",
   "execution_count": 58,
   "id": "32b63f10",
   "metadata": {},
   "outputs": [
    {
     "data": {
      "text/plain": [
       "['__builtins__',\n",
       " '__cached__',\n",
       " '__doc__',\n",
       " '__file__',\n",
       " '__loader__',\n",
       " '__name__',\n",
       " '__package__',\n",
       " '__spec__',\n",
       " 'add',\n",
       " 'check',\n",
       " 'even',\n",
       " 'mul',\n",
       " 'odd']"
      ]
     },
     "execution_count": 58,
     "metadata": {},
     "output_type": "execute_result"
    }
   ],
   "source": [
    "dir(module)"
   ]
  },
  {
   "cell_type": "code",
   "execution_count": 59,
   "id": "a868def8",
   "metadata": {},
   "outputs": [
    {
     "data": {
      "text/plain": [
       "27"
      ]
     },
     "execution_count": 59,
     "metadata": {},
     "output_type": "execute_result"
    }
   ],
   "source": [
    "module.add(12,12,1,2)"
   ]
  },
  {
   "cell_type": "code",
   "execution_count": 60,
   "id": "4b0afc9a",
   "metadata": {},
   "outputs": [
    {
     "data": {
      "text/plain": [
       "'Odd'"
      ]
     },
     "execution_count": 60,
     "metadata": {},
     "output_type": "execute_result"
    }
   ],
   "source": [
    "module.check(13)"
   ]
  },
  {
   "cell_type": "code",
   "execution_count": 61,
   "id": "c8297546",
   "metadata": {},
   "outputs": [],
   "source": [
    "import module as md"
   ]
  },
  {
   "cell_type": "code",
   "execution_count": 62,
   "id": "4d7d3f67",
   "metadata": {},
   "outputs": [
    {
     "data": {
      "text/plain": [
       "['__builtins__',\n",
       " '__cached__',\n",
       " '__doc__',\n",
       " '__file__',\n",
       " '__loader__',\n",
       " '__name__',\n",
       " '__package__',\n",
       " '__spec__',\n",
       " 'add',\n",
       " 'check',\n",
       " 'even',\n",
       " 'mul',\n",
       " 'odd']"
      ]
     },
     "execution_count": 62,
     "metadata": {},
     "output_type": "execute_result"
    }
   ],
   "source": [
    "dir(md)"
   ]
  },
  {
   "cell_type": "code",
   "execution_count": 63,
   "id": "dfc40b7d",
   "metadata": {},
   "outputs": [
    {
     "data": {
      "text/plain": [
       "48"
      ]
     },
     "execution_count": 63,
     "metadata": {},
     "output_type": "execute_result"
    }
   ],
   "source": [
    "md.add(12,12,12,12)"
   ]
  },
  {
   "cell_type": "code",
   "execution_count": 64,
   "id": "4f73c20c",
   "metadata": {},
   "outputs": [],
   "source": [
    "from module import add"
   ]
  },
  {
   "cell_type": "code",
   "execution_count": 65,
   "id": "6893e9cf",
   "metadata": {},
   "outputs": [
    {
     "data": {
      "text/plain": [
       "261"
      ]
     },
     "execution_count": 65,
     "metadata": {},
     "output_type": "execute_result"
    }
   ],
   "source": [
    "add(12,12,1,212,1,21,2)"
   ]
  },
  {
   "cell_type": "code",
   "execution_count": 66,
   "id": "0df8d020",
   "metadata": {},
   "outputs": [],
   "source": [
    "from module import *"
   ]
  },
  {
   "cell_type": "code",
   "execution_count": 67,
   "id": "197294fd",
   "metadata": {},
   "outputs": [
    {
     "data": {
      "text/plain": [
       "24"
      ]
     },
     "execution_count": 67,
     "metadata": {},
     "output_type": "execute_result"
    }
   ],
   "source": [
    "add(12,12)"
   ]
  },
  {
   "cell_type": "code",
   "execution_count": 68,
   "id": "288e58be",
   "metadata": {},
   "outputs": [
    {
     "data": {
      "text/plain": [
       "'Odd'"
      ]
     },
     "execution_count": 68,
     "metadata": {},
     "output_type": "execute_result"
    }
   ],
   "source": [
    "check(13)"
   ]
  },
  {
   "cell_type": "code",
   "execution_count": 69,
   "id": "3f206265",
   "metadata": {},
   "outputs": [
    {
     "name": "stdout",
     "output_type": "stream",
     "text": [
      "outer\n",
      "global\n"
     ]
    }
   ],
   "source": [
    "x = \"global\"\n",
    "def outer():\n",
    "    x = \"outer\"\n",
    "    print(x)\n",
    "outer()\n",
    "print(x)"
   ]
  },
  {
   "cell_type": "code",
   "execution_count": 70,
   "id": "e480e92e",
   "metadata": {},
   "outputs": [
    {
     "name": "stdout",
     "output_type": "stream",
     "text": [
      "outer\n",
      "outer\n"
     ]
    }
   ],
   "source": [
    "x = \"global\"\n",
    "def outer():\n",
    "    global x\n",
    "    x = \"outer\"\n",
    "    print(x)\n",
    "outer()\n",
    "print(x)"
   ]
  },
  {
   "cell_type": "code",
   "execution_count": 71,
   "id": "ae7446a2",
   "metadata": {},
   "outputs": [
    {
     "name": "stdout",
     "output_type": "stream",
     "text": [
      "inner\n",
      "outer\n",
      "global\n"
     ]
    }
   ],
   "source": [
    "x = \"global\"\n",
    "def outer():\n",
    "    x = \"outer\"\n",
    "    def inner():\n",
    "        x = \"inner\"\n",
    "        print(x)\n",
    "    inner()\n",
    "    print(x)\n",
    "outer()\n",
    "print(x)"
   ]
  },
  {
   "cell_type": "code",
   "execution_count": 72,
   "id": "b6894a51",
   "metadata": {},
   "outputs": [
    {
     "name": "stdout",
     "output_type": "stream",
     "text": [
      "inner\n",
      "inner\n",
      "global\n"
     ]
    }
   ],
   "source": [
    "x = \"global\"\n",
    "def outer():\n",
    "    x = \"outer\"\n",
    "    def inner():\n",
    "        nonlocal x\n",
    "        x = \"inner\"\n",
    "        print(x)\n",
    "    inner()\n",
    "    print(x)\n",
    "outer()\n",
    "print(x)"
   ]
  },
  {
   "cell_type": "code",
   "execution_count": 75,
   "id": "644c11d2",
   "metadata": {},
   "outputs": [
    {
     "name": "stdout",
     "output_type": "stream",
     "text": [
      "inner\n",
      "outer\n",
      "inner\n"
     ]
    }
   ],
   "source": [
    "x = \"global\"\n",
    "def outer():\n",
    "    x = \"outer\"\n",
    "    def inner():\n",
    "        global x\n",
    "        x = \"inner\"\n",
    "        print(x)\n",
    "        global w \n",
    "        w = 100\n",
    "    inner()\n",
    "    print(x)\n",
    "outer()\n",
    "print(x)"
   ]
  },
  {
   "cell_type": "code",
   "execution_count": 76,
   "id": "bcedb35c",
   "metadata": {},
   "outputs": [
    {
     "name": "stdout",
     "output_type": "stream",
     "text": [
      "100\n"
     ]
    }
   ],
   "source": [
    "print(w)"
   ]
  },
  {
   "cell_type": "code",
   "execution_count": 79,
   "id": "ec1ecee9",
   "metadata": {},
   "outputs": [],
   "source": [
    "class Cars:\n",
    "    pass"
   ]
  },
  {
   "cell_type": "code",
   "execution_count": 82,
   "id": "0e56b5f4",
   "metadata": {},
   "outputs": [],
   "source": [
    "#create object\n",
    "obj = Cars()"
   ]
  },
  {
   "cell_type": "code",
   "execution_count": 83,
   "id": "23fa1ea6",
   "metadata": {},
   "outputs": [
    {
     "data": {
      "text/plain": [
       "True"
      ]
     },
     "execution_count": 83,
     "metadata": {},
     "output_type": "execute_result"
    }
   ],
   "source": [
    "isinstance(obj ,Cars )"
   ]
  },
  {
   "cell_type": "code",
   "execution_count": 85,
   "id": "1eb9a2e1",
   "metadata": {},
   "outputs": [],
   "source": [
    "class Cars:\n",
    "    def __init__(self , name , speed , color):\n",
    "        self.name = name\n",
    "        self.speed = speed\n",
    "        self.color = color\n",
    "    \n",
    "    def show(self):\n",
    "        print(\"Car name:\" , self.name)\n",
    "        print(\"Car speed:\" , self.speed)\n",
    "        print(\"Car color:\" , self.color)"
   ]
  },
  {
   "cell_type": "code",
   "execution_count": 89,
   "id": "1e81e1cd",
   "metadata": {},
   "outputs": [],
   "source": [
    "BMW = Cars(\"BMW\" , 250 , \"red\")\n",
    "FIAT = Cars(\"FIAT\" , 20 , \"black\")"
   ]
  },
  {
   "cell_type": "code",
   "execution_count": 90,
   "id": "bc547fbf",
   "metadata": {},
   "outputs": [
    {
     "name": "stdout",
     "output_type": "stream",
     "text": [
      "Car name: BMW\n",
      "Car speed: 250\n",
      "Car color: red\n"
     ]
    }
   ],
   "source": [
    "BMW.show()"
   ]
  },
  {
   "cell_type": "code",
   "execution_count": 91,
   "id": "374c7511",
   "metadata": {},
   "outputs": [
    {
     "name": "stdout",
     "output_type": "stream",
     "text": [
      "Car name: FIAT\n",
      "Car speed: 20\n",
      "Car color: black\n"
     ]
    }
   ],
   "source": [
    "FIAT.show()"
   ]
  },
  {
   "cell_type": "code",
   "execution_count": 92,
   "id": "f7bbfa6f",
   "metadata": {},
   "outputs": [
    {
     "data": {
      "text/plain": [
       "'FIAT'"
      ]
     },
     "execution_count": 92,
     "metadata": {},
     "output_type": "execute_result"
    }
   ],
   "source": [
    "FIAT.name"
   ]
  },
  {
   "cell_type": "code",
   "execution_count": 93,
   "id": "5b61e8e8",
   "metadata": {},
   "outputs": [],
   "source": [
    "FIAT.speed = 200"
   ]
  },
  {
   "cell_type": "code",
   "execution_count": 94,
   "id": "ba4279d3",
   "metadata": {},
   "outputs": [
    {
     "name": "stdout",
     "output_type": "stream",
     "text": [
      "Car name: FIAT\n",
      "Car speed: 200\n",
      "Car color: black\n"
     ]
    }
   ],
   "source": [
    "FIAT.show()"
   ]
  },
  {
   "cell_type": "code",
   "execution_count": 102,
   "id": "ba8ce63a",
   "metadata": {},
   "outputs": [],
   "source": [
    "class Cars:\n",
    "    #class attribute\n",
    "    n_Cars = 0 \n",
    "    def __init__(self , name , speed , color):\n",
    "        #instance attribute \n",
    "        self.__name = name\n",
    "        self.__speed = speed\n",
    "        self.__color = color\n",
    "        Cars.n_Cars += 1\n",
    "    #instance method\n",
    "    def show(self):\n",
    "        print(\"Car name:\" , self.__name)\n",
    "        print(\"Car speed:\" , self.__speed)\n",
    "        print(\"Car color:\" , self.__color)\n",
    "    @classmethod\n",
    "    def show_nCars(cls):\n",
    "        print(\"Number of Cars is:\" , cls.n_Cars)"
   ]
  },
  {
   "cell_type": "code",
   "execution_count": 103,
   "id": "c768f261",
   "metadata": {},
   "outputs": [],
   "source": [
    "fiat128 = Cars(\"FIAT128\" , 120 , \"blue\" )\n",
    "fiat = Cars(\"FIAT\" , 200 , \"blue\" )\n",
    "BMW = Cars(\"BMW\" , 240 , \"black\")"
   ]
  },
  {
   "cell_type": "code",
   "execution_count": 104,
   "id": "c8219ea7",
   "metadata": {},
   "outputs": [
    {
     "name": "stdout",
     "output_type": "stream",
     "text": [
      "Car name: FIAT128\n",
      "Car speed: 120\n",
      "Car color: blue\n"
     ]
    }
   ],
   "source": [
    "fiat128.show()"
   ]
  },
  {
   "cell_type": "code",
   "execution_count": 105,
   "id": "b70d1a0f",
   "metadata": {},
   "outputs": [
    {
     "name": "stdout",
     "output_type": "stream",
     "text": [
      "Number of Cars is: 3\n"
     ]
    }
   ],
   "source": [
    "Cars.show_nCars()"
   ]
  },
  {
   "cell_type": "code",
   "execution_count": null,
   "id": "bef7c672",
   "metadata": {},
   "outputs": [],
   "source": []
  }
 ],
 "metadata": {
  "kernelspec": {
   "display_name": "Python 3 (ipykernel)",
   "language": "python",
   "name": "python3"
  },
  "language_info": {
   "codemirror_mode": {
    "name": "ipython",
    "version": 3
   },
   "file_extension": ".py",
   "mimetype": "text/x-python",
   "name": "python",
   "nbconvert_exporter": "python",
   "pygments_lexer": "ipython3",
   "version": "3.10.9"
  }
 },
 "nbformat": 4,
 "nbformat_minor": 5
}
